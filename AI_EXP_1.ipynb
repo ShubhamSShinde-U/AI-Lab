{
  "nbformat": 4,
  "nbformat_minor": 0,
  "metadata": {
    "colab": {
      "name": "AI-EXP-1.ipynb",
      "provenance": [],
      "collapsed_sections": [],
      "authorship_tag": "ABX9TyPXxT6giyvNMKoOtrxZwajX",
      "include_colab_link": true
    },
    "kernelspec": {
      "name": "python3",
      "display_name": "Python 3"
    },
    "language_info": {
      "name": "python"
    }
  },
  "cells": [
    {
      "cell_type": "markdown",
      "metadata": {
        "id": "view-in-github",
        "colab_type": "text"
      },
      "source": [
        "<a href=\"https://colab.research.google.com/github/ShubhamSShinde-U/AI-Lab/blob/main/AI_EXP_1.ipynb\" target=\"_parent\"><img src=\"https://colab.research.google.com/assets/colab-badge.svg\" alt=\"Open In Colab\"/></a>"
      ]
    },
    {
      "cell_type": "markdown",
      "source": [
        "#First Experiment : Take a number and make its table"
      ],
      "metadata": {
        "id": "Wr9cCYrFtFNG"
      }
    },
    {
      "cell_type": "code",
      "source": [
        "print(\"Enter the number to create the table\")\n",
        "a =int(input())\n",
        "\n",
        "for i in range (1,11):\n",
        "  print(a,\"*\",i,\"=\",a*i)\n",
        "  "
      ],
      "metadata": {
        "colab": {
          "base_uri": "https://localhost:8080/"
        },
        "id": "-H2EBGnetEBa",
        "outputId": "84ed53b0-1d9f-49df-fe9f-28419d5cc6e3"
      },
      "execution_count": 7,
      "outputs": [
        {
          "output_type": "stream",
          "name": "stdout",
          "text": [
            "Enter the number to create the table\n",
            "56\n",
            "56 * 1 = 56\n",
            "56 * 2 = 112\n",
            "56 * 3 = 168\n",
            "56 * 4 = 224\n",
            "56 * 5 = 280\n",
            "56 * 6 = 336\n",
            "56 * 7 = 392\n",
            "56 * 8 = 448\n",
            "56 * 9 = 504\n",
            "56 * 10 = 560\n"
          ]
        }
      ]
    }
  ]
}