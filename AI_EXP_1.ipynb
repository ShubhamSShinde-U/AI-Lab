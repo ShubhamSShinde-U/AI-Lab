{
  "nbformat": 4,
  "nbformat_minor": 0,
  "metadata": {
    "colab": {
      "name": "AI-EXP-1.ipynb",
      "provenance": [],
      "collapsed_sections": [],
      "authorship_tag": "ABX9TyPO+9IxwKfhcVqPVDcm9ssM",
      "include_colab_link": true
    },
    "kernelspec": {
      "name": "python3",
      "display_name": "Python 3"
    },
    "language_info": {
      "name": "python"
    }
  },
  "cells": [
    {
      "cell_type": "markdown",
      "metadata": {
        "id": "view-in-github",
        "colab_type": "text"
      },
      "source": [
        "<a href=\"https://colab.research.google.com/github/ShubhamSShinde-U/AI-Lab/blob/main/AI_EXP_1.ipynb\" target=\"_parent\"><img src=\"https://colab.research.google.com/assets/colab-badge.svg\" alt=\"Open In Colab\"/></a>"
      ]
    },
    {
      "cell_type": "markdown",
      "source": [
        "#First Experiment : Take a number and make its table"
      ],
      "metadata": {
        "id": "Wr9cCYrFtFNG"
      }
    },
    {
      "cell_type": "code",
      "source": [
        "a =int(input())\n",
        "\n",
        "for i in range (1,11):\n",
        "  print(a,\"*\",i,\"=\",a*1)\n",
        "  "
      ],
      "metadata": {
        "colab": {
          "base_uri": "https://localhost:8080/"
        },
        "id": "-H2EBGnetEBa",
        "outputId": "5d7be6ed-8796-4b55-9608-a8bc58c79956"
      },
      "execution_count": 5,
      "outputs": [
        {
          "output_type": "stream",
          "name": "stdout",
          "text": [
            "12\n",
            "12 * 1 = 12\n",
            "12 * 2 = 12\n",
            "12 * 3 = 12\n",
            "12 * 4 = 12\n",
            "12 * 5 = 12\n",
            "12 * 6 = 12\n",
            "12 * 7 = 12\n",
            "12 * 8 = 12\n",
            "12 * 9 = 12\n",
            "12 * 10 = 12\n"
          ]
        }
      ]
    }
  ]
}