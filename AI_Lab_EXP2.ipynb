{
  "nbformat": 4,
  "nbformat_minor": 0,
  "metadata": {
    "colab": {
      "name": "AI-Lab-EXP2.ipynb",
      "provenance": [],
      "collapsed_sections": [],
      "authorship_tag": "ABX9TyNSLIq0UvRrp+OtbfwBaddK",
      "include_colab_link": true
    },
    "kernelspec": {
      "name": "python3",
      "display_name": "Python 3"
    },
    "language_info": {
      "name": "python"
    }
  },
  "cells": [
    {
      "cell_type": "markdown",
      "metadata": {
        "id": "view-in-github",
        "colab_type": "text"
      },
      "source": [
        "<a href=\"https://colab.research.google.com/github/ShubhamSShinde-U/AI-Lab/blob/main/AI_Lab_EXP2.ipynb\" target=\"_parent\"><img src=\"https://colab.research.google.com/assets/colab-badge.svg\" alt=\"Open In Colab\"/></a>"
      ]
    },
    {
      "cell_type": "markdown",
      "source": [
        "### Experiment No: 2 : **Check** entered number is prime or not"
      ],
      "metadata": {
        "id": "L_Ov1WrbvJIg"
      }
    },
    {
      "cell_type": "code",
      "execution_count": 7,
      "metadata": {
        "colab": {
          "base_uri": "https://localhost:8080/"
        },
        "id": "H7ilcoWwvIIJ",
        "outputId": "97cdb9e1-953a-49c3-f38d-ea58cdc82760"
      },
      "outputs": [
        {
          "output_type": "stream",
          "name": "stdout",
          "text": [
            "Enter a number to check it is prime or not:\n",
            "11\n",
            "Processing......\n",
            "Yes! number is prime\n"
          ]
        }
      ],
      "source": [
        "print(\"Enter a number to check it is prime or not:\")\n",
        "number=int(input())\n",
        "flag=0\n",
        "print(\"Processing......\")\n",
        "\n",
        "for i in range(2,int(number/2)+1):\n",
        "  if(number%i==0):\n",
        "      flag =1\n",
        "  \n",
        "if(flag==1):\n",
        "  print(\"Number is not prime\")\n",
        "else:\n",
        "  print(\"Yes! number is prime\")"
      ]
    }
  ]
}