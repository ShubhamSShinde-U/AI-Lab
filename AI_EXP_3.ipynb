{
  "nbformat": 4,
  "nbformat_minor": 0,
  "metadata": {
    "colab": {
      "name": "AI-EXP-3.ipynb",
      "provenance": [],
      "authorship_tag": "ABX9TyPEJkzNZXVaeK7MOHSC3KOg",
      "include_colab_link": true
    },
    "kernelspec": {
      "name": "python3",
      "display_name": "Python 3"
    },
    "language_info": {
      "name": "python"
    }
  },
  "cells": [
    {
      "cell_type": "markdown",
      "metadata": {
        "id": "view-in-github",
        "colab_type": "text"
      },
      "source": [
        "<a href=\"https://colab.research.google.com/github/ShubhamSShinde-U/AI-Lab/blob/main/AI_EXP_3.ipynb\" target=\"_parent\"><img src=\"https://colab.research.google.com/assets/colab-badge.svg\" alt=\"Open In Colab\"/></a>"
      ]
    },
    {
      "cell_type": "markdown",
      "source": [
        "#All list operations"
      ],
      "metadata": {
        "id": "3NKqfhgmvwfP"
      }
    },
    {
      "cell_type": "code",
      "execution_count": 6,
      "metadata": {
        "id": "9fvNc3RfvpbZ"
      },
      "outputs": [],
      "source": [
        "myList = [1, 2, 3, 'Shubham','Game On', '!']"
      ]
    },
    {
      "cell_type": "markdown",
      "source": [
        "Append : The append() method is used to add elements at the end of the list. "
      ],
      "metadata": {
        "id": "OX1ee0TQw37k"
      }
    },
    {
      "cell_type": "code",
      "source": [
        "myList.append(4)\n",
        "myList.append(5)\n",
        "myList.append(6)\n",
        "\n",
        "for i in range(7,9):\n",
        "  myList.append(i);\n",
        "\n",
        "print(myList)"
      ],
      "metadata": {
        "colab": {
          "base_uri": "https://localhost:8080/"
        },
        "id": "ADh54rDZwBNk",
        "outputId": "138e78f7-dcae-4c02-bef3-a40617893e80"
      },
      "execution_count": 7,
      "outputs": [
        {
          "output_type": "stream",
          "name": "stdout",
          "text": [
            "[1, 2, 3, 'Shubham', 'Game On', '!', 4, 5, 6, 7, 8]\n"
          ]
        }
      ]
    },
    {
      "cell_type": "markdown",
      "source": [
        "Extend: The extend() method is used to add more than one element at the end of the list"
      ],
      "metadata": {
        "id": "2CWGuqA7xAVt"
      }
    },
    {
      "cell_type": "code",
      "source": [
        "myList.extend([10,11,12])\n",
        "print(myList)"
      ],
      "metadata": {
        "colab": {
          "base_uri": "https://localhost:8080/"
        },
        "id": "pQ9I1RIWxVfF",
        "outputId": "7edc45ab-f0d5-4ee1-b1e3-f3d377b30f71"
      },
      "execution_count": 10,
      "outputs": [
        {
          "output_type": "stream",
          "name": "stdout",
          "text": [
            "[1, 2, 3, 'Shubham', 'Game On', '!', 4, 5, 6, 7, 8, 10, 11, 12, 10, 11, 12]\n"
          ]
        }
      ]
    },
    {
      "cell_type": "markdown",
      "source": [
        "Insert: The insert() method can add an element at a given position in the list."
      ],
      "metadata": {
        "id": "95iPxEZXxyb8"
      }
    },
    {
      "cell_type": "code",
      "source": [
        "myList.insert(1,'Hello')\n",
        "print(myList)"
      ],
      "metadata": {
        "colab": {
          "base_uri": "https://localhost:8080/"
        },
        "id": "feKWg3LCx0KG",
        "outputId": "3c45f5f2-068f-4993-cc6d-9359ef4a504c"
      },
      "execution_count": 12,
      "outputs": [
        {
          "output_type": "stream",
          "name": "stdout",
          "text": [
            "[1, 'Hello', 'Hello', 2, 3, 'Shubham', 'Game On', '!', 4, 5, 6, 7, 8, 10, 11, 12, 10, 11, 12]\n"
          ]
        }
      ]
    },
    {
      "cell_type": "markdown",
      "source": [
        "Remove"
      ],
      "metadata": {
        "id": "MMr7-HEyyNmD"
      }
    },
    {
      "cell_type": "code",
      "source": [
        "myList.remove('Shubham')\n",
        "\n",
        "print(myList)"
      ],
      "metadata": {
        "colab": {
          "base_uri": "https://localhost:8080/"
        },
        "id": "U62ZGVGdyPUk",
        "outputId": "7726e041-c0ac-4d1b-b75b-c4f530bb24c3"
      },
      "execution_count": 18,
      "outputs": [
        {
          "output_type": "stream",
          "name": "stdout",
          "text": [
            "[1, 2, 3, 'Game On', '!', 4, 5, 6, 7, 8, 10, 11, 12, 10, 11, 12]\n"
          ]
        }
      ]
    },
    {
      "cell_type": "markdown",
      "source": [
        "POP: The method pop() can remove an element from any position in the list. "
      ],
      "metadata": {
        "id": "gQsiTWtFy_SO"
      }
    },
    {
      "cell_type": "code",
      "source": [
        "myList.pop(2)\n",
        "print(myList)"
      ],
      "metadata": {
        "colab": {
          "base_uri": "https://localhost:8080/"
        },
        "id": "Np1nBzkpzAzI",
        "outputId": "501369af-7c1a-4872-ae3a-9e8995e18416"
      },
      "execution_count": 20,
      "outputs": [
        {
          "output_type": "stream",
          "name": "stdout",
          "text": [
            "[1, 2, '!', 4, 5, 6, 7, 8, 10, 11, 12, 10, 11, 12]\n"
          ]
        }
      ]
    },
    {
      "cell_type": "markdown",
      "source": [
        "Slice: The slice operation is used to print a section of the list. The slice operation returns a specific range of elements. It does not modify the original list."
      ],
      "metadata": {
        "id": "tEX3w7O4zO3k"
      }
    },
    {
      "cell_type": "code",
      "source": [
        "print(myList[3:9])\n",
        "print(myList[:9])\n",
        "print(myList[3:])\n",
        "print(myList[:])\n"
      ],
      "metadata": {
        "colab": {
          "base_uri": "https://localhost:8080/"
        },
        "id": "6rAZW6CbzXoW",
        "outputId": "5a703817-8b43-4a1e-bb92-4d4e39769b3a"
      },
      "execution_count": 22,
      "outputs": [
        {
          "output_type": "stream",
          "name": "stdout",
          "text": [
            "[4, 5, 6, 7, 8, 10]\n",
            "[1, 2, '!', 4, 5, 6, 7, 8, 10]\n",
            "[4, 5, 6, 7, 8, 10, 11, 12, 10, 11, 12]\n",
            "[1, 2, '!', 4, 5, 6, 7, 8, 10, 11, 12, 10, 11, 12]\n"
          ]
        }
      ]
    },
    {
      "cell_type": "markdown",
      "source": [
        "Reverse: The reverse() operation is used to reverse the elements of the list. "
      ],
      "metadata": {
        "id": "xGhRSRNR0OGS"
      }
    },
    {
      "cell_type": "code",
      "source": [
        "myList.reverse()\n",
        "print(myList)"
      ],
      "metadata": {
        "colab": {
          "base_uri": "https://localhost:8080/"
        },
        "id": "bhF0NPRS0mva",
        "outputId": "0db05ab0-750d-4ef9-c2f7-d652bb748ace"
      },
      "execution_count": 25,
      "outputs": [
        {
          "output_type": "stream",
          "name": "stdout",
          "text": [
            "[12, 11, 10, 12, 11, 10, 8, 7, 6, 5, 4, '!', 2, 1]\n"
          ]
        }
      ]
    },
    {
      "cell_type": "markdown",
      "source": [
        "Length : calculate the length of list"
      ],
      "metadata": {
        "id": "J9VOnONJ01B2"
      }
    },
    {
      "cell_type": "code",
      "source": [
        "print(len(myList))"
      ],
      "metadata": {
        "colab": {
          "base_uri": "https://localhost:8080/"
        },
        "id": "VeBHvumW09JF",
        "outputId": "72f90e7e-9415-41a8-d2c0-5ff3b110b0b8"
      },
      "execution_count": 26,
      "outputs": [
        {
          "output_type": "stream",
          "name": "stdout",
          "text": [
            "14\n"
          ]
        }
      ]
    },
    {
      "cell_type": "code",
      "source": [
        "myList.pop(11)"
      ],
      "metadata": {
        "colab": {
          "base_uri": "https://localhost:8080/",
          "height": 36
        },
        "id": "l8O_m2Bf1PK3",
        "outputId": "83a2b4c1-98e8-48f3-dec3-31e1045fd17b"
      },
      "execution_count": 29,
      "outputs": [
        {
          "output_type": "execute_result",
          "data": {
            "text/plain": [
              "'!'"
            ],
            "application/vnd.google.colaboratory.intrinsic+json": {
              "type": "string"
            }
          },
          "metadata": {},
          "execution_count": 29
        }
      ]
    },
    {
      "cell_type": "markdown",
      "source": [
        "min() & max()"
      ],
      "metadata": {
        "id": "358xwvFT1CHv"
      }
    },
    {
      "cell_type": "code",
      "source": [
        "print(min(myList))\n",
        "print(max(myList))"
      ],
      "metadata": {
        "colab": {
          "base_uri": "https://localhost:8080/"
        },
        "id": "XuW-wrFo1FTZ",
        "outputId": "f6b549e1-c085-4a66-d4aa-5467bde2ebec"
      },
      "execution_count": 30,
      "outputs": [
        {
          "output_type": "stream",
          "name": "stdout",
          "text": [
            "1\n",
            "12\n"
          ]
        }
      ]
    },
    {
      "cell_type": "markdown",
      "source": [
        "Count: The function count() returns the number of occurrences of a given element in the list."
      ],
      "metadata": {
        "id": "510yPdgK1p_9"
      }
    },
    {
      "cell_type": "code",
      "source": [
        "print(myList.count(6))"
      ],
      "metadata": {
        "colab": {
          "base_uri": "https://localhost:8080/"
        },
        "id": "ECp4UC0D1prl",
        "outputId": "29c025a8-65ac-4fc6-bdf4-885ccf7a593e"
      },
      "execution_count": 32,
      "outputs": [
        {
          "output_type": "stream",
          "name": "stdout",
          "text": [
            "1\n"
          ]
        }
      ]
    },
    {
      "cell_type": "markdown",
      "source": [
        "Concatenate: The concatenate operation is used to merge two lists and return a single list. The + sign is used to perform the concatenation"
      ],
      "metadata": {
        "id": "Kyp1cg9l118N"
      }
    },
    {
      "cell_type": "code",
      "source": [
        "newList=['Hello','I am ','Shubham']\n",
        "print(myList+newList)"
      ],
      "metadata": {
        "colab": {
          "base_uri": "https://localhost:8080/"
        },
        "id": "N3v3m08_1-c2",
        "outputId": "80385ee2-d9dc-4351-930a-a99c522cc93a"
      },
      "execution_count": 33,
      "outputs": [
        {
          "output_type": "stream",
          "name": "stdout",
          "text": [
            "[12, 11, 10, 12, 11, 10, 8, 7, 6, 5, 4, 2, 1, 'Hello', 'I am ', 'Shubham']\n"
          ]
        }
      ]
    },
    {
      "cell_type": "markdown",
      "source": [
        "Multiply :\n",
        "Python also allows multiplying the list n times. The resultant list is the original list iterated n times."
      ],
      "metadata": {
        "id": "IkQOtrcA2dO8"
      }
    },
    {
      "cell_type": "code",
      "source": [
        "print(newList*2)"
      ],
      "metadata": {
        "colab": {
          "base_uri": "https://localhost:8080/"
        },
        "id": "Buq8n0Su2o66",
        "outputId": "9d876fc1-c0f4-4770-bed1-40be2722d4a9"
      },
      "execution_count": 34,
      "outputs": [
        {
          "output_type": "stream",
          "name": "stdout",
          "text": [
            "['Hello', 'I am ', 'Shubham', 'Hello', 'I am ', 'Shubham']\n"
          ]
        }
      ]
    },
    {
      "cell_type": "markdown",
      "source": [
        "Index and sort"
      ],
      "metadata": {
        "id": "RI3L6wyA220p"
      }
    },
    {
      "cell_type": "code",
      "source": [
        "print(myList.index(6))\n",
        "newList.sort()\n",
        "print(newList)"
      ],
      "metadata": {
        "colab": {
          "base_uri": "https://localhost:8080/"
        },
        "id": "U25Ude0A24jc",
        "outputId": "97c0d43d-db8e-4bec-9585-6eb52518ce68"
      },
      "execution_count": 39,
      "outputs": [
        {
          "output_type": "stream",
          "name": "stdout",
          "text": [
            "4\n",
            "['Hello', 'I am ', 'Shubham']\n"
          ]
        }
      ]
    }
  ]
}